{
  "nbformat": 4,
  "nbformat_minor": 0,
  "metadata": {
    "colab": {
      "provenance": [],
      "include_colab_link": true
    },
    "kernelspec": {
      "name": "python3",
      "display_name": "Python 3"
    },
    "language_info": {
      "name": "python"
    }
  },
  "cells": [
    {
      "cell_type": "markdown",
      "metadata": {
        "id": "view-in-github",
        "colab_type": "text"
      },
      "source": [
        "<a href=\"https://colab.research.google.com/github/KauePetrica/Consumindo-APIs/blob/APi_Cotacao_Moeda/API_GITHUB.ipynb\" target=\"_parent\"><img src=\"https://colab.research.google.com/assets/colab-badge.svg\" alt=\"Open In Colab\"/></a>"
      ]
    },
    {
      "cell_type": "code",
      "execution_count": null,
      "metadata": {
        "id": "eEpi0EBMUyhb"
      },
      "outputs": [],
      "source": [
        "import requests"
      ]
    },
    {
      "cell_type": "code",
      "source": [
        "print('\\nGithub Users')"
      ],
      "metadata": {
        "colab": {
          "base_uri": "https://localhost:8080/"
        },
        "id": "MvatQ_xLU-4E",
        "outputId": "63a4945b-c821-48fc-8a26-61d8555cfd9d"
      },
      "execution_count": null,
      "outputs": [
        {
          "output_type": "stream",
          "name": "stdout",
          "text": [
            "\n",
            "Github Users\n"
          ]
        }
      ]
    },
    {
      "cell_type": "code",
      "source": [
        "username = input('Qual o nome de usuário?')\n",
        "print(username)"
      ],
      "metadata": {
        "colab": {
          "base_uri": "https://localhost:8080/"
        },
        "id": "QfJL9eKZVWqf",
        "outputId": "66915ef8-64d6-4147-a92d-82dae3cb2a20"
      },
      "execution_count": null,
      "outputs": [
        {
          "output_type": "stream",
          "name": "stdout",
          "text": [
            "Qual o nome de usuário?KauePetrica\n",
            "KauePetrica\n"
          ]
        }
      ]
    },
    {
      "cell_type": "code",
      "source": [
        "url = f'https://api.github.com/users/{username}'"
      ],
      "metadata": {
        "id": "jn-F3VJTU4zr"
      },
      "execution_count": null,
      "outputs": []
    },
    {
      "cell_type": "code",
      "source": [
        "response = requests.get(url)\n",
        "data = response.json()\n",
        "\n",
        "if response.status_code == 200:\n",
        "  # print(data)\n",
        "  print(f'Nome completo: {data[\"name\"]}')\n",
        "  print(f'\\nBio: {data[\"bio\"]}')\n",
        "  print(f'\\nLocalização: {data[\"location\"]}')\n",
        "  print(f'Empresa atual: {data[\"company\"]}')\n",
        "else:\n",
        "  print(f'Não foi possível encontrar o usuário!')"
      ],
      "metadata": {
        "colab": {
          "base_uri": "https://localhost:8080/"
        },
        "id": "lZN3rSU2V4ev",
        "outputId": "c163305e-f123-477b-833f-dc648b3e9cf7"
      },
      "execution_count": null,
      "outputs": [
        {
          "output_type": "stream",
          "name": "stdout",
          "text": [
            "Nome completo: Kaue Petrica \n",
            "\n",
            "Bio: Movido a desafios!\r\n",
            "Trabalhando na área de dados.\r\n",
            "Sempre estudando, Busco sempre aprender novos conhecimentos, tento transmitir os mesmos aos meus colegas\n",
            "\n",
            "Localização: São Paulo-SP\n",
            "Empresa atual: AlmapBBDO\n"
          ]
        }
      ]
    },
    {
      "cell_type": "code",
      "source": [],
      "metadata": {
        "id": "sDY3XX5XWMLH"
      },
      "execution_count": null,
      "outputs": []
    }
  ]
}