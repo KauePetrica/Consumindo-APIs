{
  "nbformat": 4,
  "nbformat_minor": 0,
  "metadata": {
    "colab": {
      "provenance": []
    },
    "kernelspec": {
      "name": "python3",
      "display_name": "Python 3"
    },
    "language_info": {
      "name": "python"
    }
  },
  "cells": [
    {
      "cell_type": "code",
      "execution_count": null,
      "metadata": {
        "id": "3BQP4wfHm_9L"
      },
      "outputs": [],
      "source": [
        "import requests\n",
        "\n",
        "\n",
        "\n",
        "def authenticate():\n",
        "    url = 'https://api.appnexus.com/auth'\n",
        "    auth_data = {\n",
        "        \"auth\": {\n",
        "            \"username\": \"****Seu name****\",\n",
        "            \"password\": \"****Sua Senha****\"\n",
        "        }\n",
        "    }\n",
        "\n",
        "    try:\n",
        "        response = requests.post(url, json=auth_data)\n",
        "        response.raise_for_status()\n",
        "        return response.cookies.get_dict()\n",
        "    except requests.exceptions.RequestException as e:\n",
        "        print(f\"Erro na autenticação: {e}\")\n",
        "        return None\n",
        "\n",
        "def get_member_info(cookies):\n",
        "    url = 'https://api.appnexus.com/member'\n",
        "\n",
        "    try:\n",
        "        response = requests.get(url, cookies=cookies)\n",
        "        response.raise_for_status()\n",
        "        return response.json()\n",
        "    except requests.exceptions.RequestException as e:\n",
        "        print(f\"Erro ao obter informações do membro: {e}\")\n",
        "        return None\n",
        "\n",
        "def download_report(cookies, report_id, output_file):\n",
        "    url = f'https://api.appnexus.com/report-download?id={report_id}'\n",
        "\n",
        "    try:\n",
        "        response = requests.get(url, cookies=cookies)\n",
        "        response.raise_for_status()\n",
        "\n",
        "        with open(output_file, 'wb') as file:\n",
        "            file.write(response.content)\n",
        "\n",
        "        print(f\"Relatório baixado com sucesso para {output_file}\")\n",
        "    except requests.exceptions.RequestException as e:\n",
        "        print(f\"Erro ao baixar o relatório: {e}\")\n",
        "\n",
        "\n",
        "\n",
        "# Autenticar\n",
        "def main(self):\n",
        "    cookies = authenticate()\n",
        "\n",
        "    if cookies:\n",
        "        # Obter informações do membro\n",
        "        member_info = get_member_info(cookies)\n",
        "\n",
        "        if member_info:\n",
        "            print(\"Informações do Membro:\")\n",
        "            print(member_info)\n",
        "\n",
        "            # Baixar o relatório\n",
        "            report_id = \"**********report_id_preencher**************\"\n",
        "            output_file = \"/tmp/geo_analytics.csv\"\n",
        "            download_report(cookies, report_id, output_file)\n",
        "    else:\n",
        "        print(\"Falha na autenticação.\")\n"
      ]
    }
  ]
}